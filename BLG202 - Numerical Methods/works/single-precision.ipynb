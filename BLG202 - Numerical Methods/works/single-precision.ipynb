{
 "cells": [
  {
   "cell_type": "code",
   "execution_count": 9,
   "metadata": {},
   "outputs": [],
   "source": [
    "def dec_to_bin(number):\n",
    "    int_to_bin = \"\"\n",
    "    while(number > 0):\n",
    "        surplus = number % 2\n",
    "        number =  int(number / 2)\n",
    "        if(surplus == 1):\n",
    "            int_to_bin += \"1\"\n",
    "        else:\n",
    "            int_to_bin += \"0\"\n",
    "\n",
    "    int_to_bin = int_to_bin[::-1]\n",
    "    return int_to_bin"
   ]
  },
  {
   "cell_type": "code",
   "execution_count": 10,
   "metadata": {},
   "outputs": [],
   "source": [
    "def dec_to_bin_for_floating(number):\n",
    "    integer_part = int(number)\n",
    "    floating_part = number - int(number)\n",
    "    #print(integer_part, floating_part)\n",
    "\n",
    "    int_to_bin = \"\"\n",
    "    while(integer_part > 0):\n",
    "        surplus = integer_part % 2\n",
    "        integer_part =  int(integer_part / 2)\n",
    "        if(surplus == 1):\n",
    "            int_to_bin += \"1\"\n",
    "        else:\n",
    "            int_to_bin += \"0\"\n",
    "\n",
    "    int_to_bin = int_to_bin[::-1]\n",
    "\n",
    "    flo_to_bin = \"\"\n",
    "    for i in range(46):\n",
    "        floating_part = 2*floating_part\n",
    "        if(floating_part > 1):\n",
    "            floating_part -= 1\n",
    "            flo_to_bin += \"1\"\n",
    "        else:\n",
    "            flo_to_bin += \"0\"\n",
    "    \n",
    "\n",
    "    if(len(int_to_bin) == 0):\n",
    "        int_to_bin += \"0\" * 23\n",
    "    #print(f\"{number} -> {int_to_bin}.{flo_to_bin}\")\n",
    "    return int_to_bin, flo_to_bin\n",
    "\n",
    "\n",
    "    "
   ]
  },
  {
   "cell_type": "code",
   "execution_count": 11,
   "metadata": {},
   "outputs": [],
   "source": [
    "number = 2/7\n",
    "integer_part, floating_part = dec_to_bin_for_floating(number)\n",
    "excess = 0\n",
    "\n",
    "#print(integer_part + \".\" + floating_part)\n",
    "\n",
    "flag = True\n",
    "while(int(integer_part) == 0):\n",
    "    flag = False\n",
    "    for i in floating_part:\n",
    "        if(i == \"1\"):\n",
    "            floating_part = floating_part[1:]\n",
    "            integer_part += \"1\"\n",
    "            excess -= 1\n",
    "            break\n",
    "        excess -= 1\n",
    "        floating_part = floating_part[1:]\n",
    "        integer_part += \"0\"\n",
    "\n",
    "if(flag == True):\n",
    "    idx = len(integer_part)\n",
    "    for i in integer_part:\n",
    "        excess += 1\n",
    "        idx -= 1 \n",
    "        if(i == \"1\"):\n",
    "            excess -= 1\n",
    "            break\n",
    "       \n",
    "       \n",
    "if((int(integer_part) > 0) and flag):\n",
    "    for i in range(idx):\n",
    "        excess += 1\n",
    "        floating_part = integer_part[-1] + floating_part\n",
    "        floating_part = floating_part[:-1]\n",
    "        integer_part = integer_part[:-1]"
   ]
  },
  {
   "cell_type": "code",
   "execution_count": 12,
   "metadata": {},
   "outputs": [],
   "source": [
    "sign = \"\"\n",
    "exponent = \"\"\n",
    "mantissa = floating_part[:23]"
   ]
  },
  {
   "cell_type": "code",
   "execution_count": 13,
   "metadata": {},
   "outputs": [],
   "source": [
    "if(number >= 0):\n",
    "    sign = \"0\"\n",
    "else:\n",
    "    sign = \"1\""
   ]
  },
  {
   "cell_type": "code",
   "execution_count": 14,
   "metadata": {},
   "outputs": [],
   "source": [
    "exponent = int(excess) + 127\n",
    "exponent = dec_to_bin(exponent)\n",
    "\n",
    "exponent = exponent[::-1]\n",
    "while(len(exponent) < 8):\n",
    "    exponent += \"0\"\n",
    "exponent = exponent[::-1]"
   ]
  },
  {
   "cell_type": "code",
   "execution_count": 15,
   "metadata": {},
   "outputs": [
    {
     "name": "stdout",
     "output_type": "stream",
     "text": [
      "0\n",
      "01111101\n",
      "00100100100100100100100\n"
     ]
    }
   ],
   "source": [
    "print(sign)\n",
    "print(exponent)\n",
    "print(mantissa)"
   ]
  },
  {
   "cell_type": "code",
   "execution_count": 16,
   "metadata": {},
   "outputs": [
    {
     "name": "stdout",
     "output_type": "stream",
     "text": [
      "Single Precision Format:\n",
      "0011 1110 1001 0010 0100 1001 0010 0100 "
     ]
    }
   ],
   "source": [
    "single_precision = sign + exponent + mantissa\n",
    "print(\"Single Precision Format:\")\n",
    "counter = 0\n",
    "while counter < len(single_precision):\n",
    "    print(single_precision[counter:counter + 4], end=\" \")\n",
    "    counter += 4\n"
   ]
  }
 ],
 "metadata": {
  "kernelspec": {
   "display_name": "Python 3",
   "language": "python",
   "name": "python3"
  },
  "language_info": {
   "codemirror_mode": {
    "name": "ipython",
    "version": 3
   },
   "file_extension": ".py",
   "mimetype": "text/x-python",
   "name": "python",
   "nbconvert_exporter": "python",
   "pygments_lexer": "ipython3",
   "version": "3.10.6"
  }
 },
 "nbformat": 4,
 "nbformat_minor": 2
}
