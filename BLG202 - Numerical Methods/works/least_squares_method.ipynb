{
 "cells": [
  {
   "cell_type": "code",
   "execution_count": 93,
   "metadata": {},
   "outputs": [],
   "source": [
    "import numpy as np"
   ]
  },
  {
   "cell_type": "markdown",
   "metadata": {},
   "source": [
    "<h2>Least Square Method</h2>"
   ]
  },
  {
   "cell_type": "code",
   "execution_count": 94,
   "metadata": {},
   "outputs": [],
   "source": [
    "def LSM(A, b):\n",
    "    ATA = A.T @ A\n",
    "    ATb = A.T @ b \n",
    "    Ls = np.linalg.inv(ATA) @ ATb   \n",
    "    is_b = A @ Ls\n",
    "    error_vector = b - is_b\n",
    "    total = 0\n",
    "    for num in error_vector:\n",
    "        total += num**2\n",
    "    error = np.sqrt(total)\n",
    "    print(\"Least Square Solution:\\n\",Ls)\n",
    "    print(\"Error Vector:\\n\", error_vector)\n",
    "    print(\"Error:\", error[0])\n",
    "    #return Ls, error_vector, error[0] "
   ]
  },
  {
   "cell_type": "code",
   "execution_count": 95,
   "metadata": {},
   "outputs": [],
   "source": [
    "A = np.array([\n",
    "    [1, -1],\n",
    "    [3, 2],\n",
    "    [-2, 4]])\n",
    "b = np.array([\n",
    "    [4],\n",
    "    [1],\n",
    "    [3]])"
   ]
  },
  {
   "cell_type": "code",
   "execution_count": 96,
   "metadata": {},
   "outputs": [
    {
     "name": "stdout",
     "output_type": "stream",
     "text": [
      "Least Square Solution:\n",
      " [[0.17894737]\n",
      " [0.50175439]]\n",
      "Error Vector:\n",
      " [[ 4.32280702]\n",
      " [-0.54035088]\n",
      " [ 1.35087719]]\n",
      "Error: 4.561086358745012\n"
     ]
    }
   ],
   "source": [
    "LSM(A, b)"
   ]
  },
  {
   "cell_type": "markdown",
   "metadata": {},
   "source": [
    "<h2>Curve Fitting</h2>"
   ]
  },
  {
   "cell_type": "code",
   "execution_count": 97,
   "metadata": {},
   "outputs": [
    {
     "name": "stdout",
     "output_type": "stream",
     "text": [
      "Least Square Solution:\n",
      " [[1. ]\n",
      " [1.5]]\n",
      "Error Vector:\n",
      " [[-0.5]\n",
      " [ 0.5]\n",
      " [ 0.5]\n",
      " [-0.5]]\n",
      "Error: 1.0\n"
     ]
    }
   ],
   "source": [
    "points = np.array([\n",
    "    #x,y\n",
    "    [0,1],\n",
    "    [1,3],\n",
    "    [2,4],\n",
    "    [3,4]\n",
    "])\n",
    "\n",
    "# aX + b = y\n",
    "A = np.array([\n",
    "    #a_coef(x),b_coef\n",
    "    [0,1],\n",
    "    [1,1],\n",
    "    [2,1],\n",
    "    [3,1]\n",
    "])\n",
    "\n",
    "b = np.array([\n",
    "    [1],[3],[4],[4]\n",
    "])\n",
    "\n",
    "LSM(A, b)"
   ]
  }
 ],
 "metadata": {
  "kernelspec": {
   "display_name": "Python 3",
   "language": "python",
   "name": "python3"
  },
  "language_info": {
   "codemirror_mode": {
    "name": "ipython",
    "version": 3
   },
   "file_extension": ".py",
   "mimetype": "text/x-python",
   "name": "python",
   "nbconvert_exporter": "python",
   "pygments_lexer": "ipython3",
   "version": "3.10.6"
  }
 },
 "nbformat": 4,
 "nbformat_minor": 2
}
