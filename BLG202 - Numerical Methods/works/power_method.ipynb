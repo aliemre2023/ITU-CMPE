{
 "cells": [
  {
   "cell_type": "code",
   "execution_count": 164,
   "metadata": {},
   "outputs": [],
   "source": [
    "import numpy as np"
   ]
  },
  {
   "cell_type": "code",
   "execution_count": 165,
   "metadata": {},
   "outputs": [],
   "source": [
    "A = [[1, -3, 2],\n",
    "     [4, 4, -1],\n",
    "     [6, 3,  5]]"
   ]
  },
  {
   "cell_type": "code",
   "execution_count": 166,
   "metadata": {},
   "outputs": [],
   "source": [
    "def power_method(A, x=None, tol=1e-9, max_iter=1000, iter=0):\n",
    "    if(x is None):\n",
    "        x = np.ones(len(A))\n",
    "    x = x.reshape(len(A),1)\n",
    "\n",
    "    _x = []\n",
    "    for i in range(len(A)):\n",
    "        tot = 0\n",
    "        for j in range(len(A[0])):\n",
    "            tot += A[i][j] * x[j][0]\n",
    "        _x.append(tot)\n",
    "    \n",
    "    eig_val = max(_x)\n",
    "    _x /= eig_val\n",
    "\n",
    "    \n",
    "\n",
    "    \n",
    "    diff = 0\n",
    "    for i in range(len(x)):\n",
    "        if(abs(x[i] - _x[i]) > diff):\n",
    "            diff = abs(x[i] - _x[i])\n",
    "    \n",
    "    \n",
    "    if (diff < tol or max_iter==0):\n",
    "        print(f\"Stop in the iteration {iter}.\")\n",
    "        return eig_val, _x\n",
    "    else:\n",
    "        \n",
    "        return power_method(A, x=_x, tol=tol, max_iter=max_iter-1, iter=iter+1)"
   ]
  },
  {
   "cell_type": "code",
   "execution_count": 167,
   "metadata": {},
   "outputs": [
    {
     "name": "stdout",
     "output_type": "stream",
     "text": [
      "Stop in the iteration 28.\n",
      "Biggest Eigenvalue:  7.000000004878277\n",
      "Biggest Eigenvector:  [0.3        0.06666667 1.        ]\n"
     ]
    }
   ],
   "source": [
    "eigenvalue, eigenvector = power_method(A)\n",
    "print(\"Biggest Eigenvalue: \", eigenvalue)\n",
    "print(\"Biggest Eigenvector: \", eigenvector)"
   ]
  }
 ],
 "metadata": {
  "kernelspec": {
   "display_name": "Python 3",
   "language": "python",
   "name": "python3"
  },
  "language_info": {
   "codemirror_mode": {
    "name": "ipython",
    "version": 3
   },
   "file_extension": ".py",
   "mimetype": "text/x-python",
   "name": "python",
   "nbconvert_exporter": "python",
   "pygments_lexer": "ipython3",
   "version": "3.10.6"
  }
 },
 "nbformat": 4,
 "nbformat_minor": 2
}
