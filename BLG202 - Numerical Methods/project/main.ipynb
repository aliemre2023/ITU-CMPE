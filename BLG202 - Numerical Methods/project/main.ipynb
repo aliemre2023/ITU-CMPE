{
 "cells": [
  {
   "cell_type": "code",
   "execution_count": null,
   "metadata": {},
   "outputs": [],
   "source": [
    "import numpy as np\n",
    "import matplotlib\n",
    "import matplotlib.pyplot as plt\n",
    "\n",
    "from random import normalvariate\n",
    "from math import sqrt\n",
    "import sys"
   ]
  },
  {
   "cell_type": "code",
   "execution_count": null,
   "metadata": {},
   "outputs": [],
   "source": [
    "print('Python:', sys.version.split(\" \")[0])\n",
    "print('Numpy:', np.__version__)\n",
    "print('Matplotlib:', matplotlib.__version__)\n",
    "\n",
    "'''\n",
    "Python: 3.10.6\n",
    "Numpy: 1.24.0\n",
    "Matplotlib: 3.1.1\n",
    "'''"
   ]
  },
  {
   "cell_type": "markdown",
   "metadata": {},
   "source": [
    "## Watermark and Host Images <br>\n",
    "Watermark and host image were taken and adjusted to the desired format."
   ]
  },
  {
   "cell_type": "code",
   "execution_count": 3,
   "metadata": {},
   "outputs": [],
   "source": [
    "def resizer(image, new_size):\n",
    "    \"\"\"\n",
    "    Even if an RGB image is inserted, it outputs it as grayscale.\n",
    "    Because I did not consider the RGB values.\n",
    "    \"\"\" \n",
    "    image = np.real(image)\n",
    "\n",
    "    x_resz, y_resz = new_size[0], new_size[1]\n",
    "    x_real, y_real = image.shape[0], image.shape[1]\n",
    "\n",
    "    x_scalefactor = x_real / x_resz\n",
    "    y_scalefactor = y_real / y_resz\n",
    "    \n",
    "    resized_image = np.zeros((x_resz, y_resz), dtype=np.float64)\n",
    "    for i in range(x_resz):\n",
    "        for j in range(y_resz):\n",
    "            block = image[int(i*x_scalefactor) : int((i+1)*x_scalefactor) , int(j*y_scalefactor) : int((j+1)*y_scalefactor)]\n",
    "\n",
    "            total = np.sum(block)\n",
    "            size = np.size(block)\n",
    "            value = total / size\n",
    "            resized_image[i][j] = np.float64(value) \n",
    "               \n",
    "    return resized_image"
   ]
  },
  {
   "cell_type": "code",
   "execution_count": null,
   "metadata": {},
   "outputs": [],
   "source": [
    "org_image = plt.imread(\"images/watermark.png\")\n",
    "\n",
    "wa_size = 32\n",
    "org_watermark_image = resizer(org_image, (wa_size, wa_size))\n",
    "\n",
    "watermark_image = np.zeros_like(org_watermark_image)\n",
    "for i in range(len(org_watermark_image)):\n",
    "    for j in range(len(org_watermark_image[0])):\n",
    "        if org_watermark_image[i][j] <= 0.5:\n",
    "            watermark_image[i][j] = 0\n",
    "        else:\n",
    "            watermark_image[i][j] = 1\n",
    "\n",
    "watermark = watermark_image\n",
    "\n",
    "plt.figure(figsize=(14,6))\n",
    "plt.subplot(1,2,1)\n",
    "plt.imshow(org_image, cmap=\"gray\")\n",
    "plt.title(\"Original\")\n",
    "plt.subplot(1,2,2)\n",
    "plt.imshow(watermark, cmap=\"gray\")\n",
    "plt.title(\"Watermark\")\n",
    "plt.show()\n",
    "\n",
    "print(watermark.shape)"
   ]
  },
  {
   "cell_type": "code",
   "execution_count": null,
   "metadata": {},
   "outputs": [],
   "source": [
    "image = plt.imread(\"images/host.jpg\")\n",
    "im_size = 1\n",
    "while(im_size < min(image.shape[0],image.shape[1])/2):\n",
    "    im_size *= 2\n",
    "\n",
    "host_image = resizer(image, (im_size, im_size))\n",
    "\n",
    "plt.figure(figsize=(7,6))\n",
    "plt.imshow(host_image, cmap=\"gray\")\n",
    "plt.title(\"Host Image\")\n",
    "plt.show()\n",
    "\n",
    "host = np.abs(np.real(host_image))\n",
    "\n",
    "print(host.shape)\n"
   ]
  },
  {
   "cell_type": "markdown",
   "metadata": {},
   "source": [
    "## SVD (Singular Value Decomposition)"
   ]
  },
  {
   "cell_type": "markdown",
   "metadata": {},
   "source": [
    "Power mothod used to found U, s and V. To do power method iteratively all the values obtained."
   ]
  },
  {
   "cell_type": "code",
   "execution_count": 6,
   "metadata": {},
   "outputs": [],
   "source": [
    "def norm(v):\n",
    "    # Size of vector\n",
    "    total = 0\n",
    "    for num in v:\n",
    "        total += num*num\n",
    "    return sqrt(total) "
   ]
  },
  {
   "cell_type": "code",
   "execution_count": 7,
   "metadata": {},
   "outputs": [],
   "source": [
    "np.seterr(divide='ignore', invalid='ignore')\n",
    "\n",
    "def power_method(A, epsilon=1e-10, max_iterations=50):\n",
    "    ATA = np.dot(A.T, A)\n",
    "    \n",
    "    lastV = None\n",
    "    currentV = []\n",
    "    gaussian_distribution = []\n",
    "    for _ in range(A.shape[0]):\n",
    "        gaussian_distribution.append(normalvariate(0, 1))\n",
    "    the_norm = norm(gaussian_distribution)\n",
    "    for num in gaussian_distribution:\n",
    "        currentV.append(num/the_norm)\n",
    "      \n",
    "    iterations = 0\n",
    "    while iterations < max_iterations:\n",
    "        iterations += 1\n",
    "        lastV = currentV\n",
    "        currentV = np.dot(ATA, lastV)\n",
    "        currentNorm = norm(currentV)\n",
    "        \n",
    "        currentV = currentV / currentNorm\n",
    "\n",
    "        if abs(np.dot(currentV, lastV)) > 1 - epsilon:\n",
    "            return currentV\n",
    "        \n",
    "    return currentV\n",
    "\n",
    "\n",
    "def SVD(A, epsilon=1e-10):\n",
    "    # Assumption: A matrix is square\n",
    "    A = np.array(A, dtype=float)\n",
    "    \n",
    "    svd = []\n",
    "    \n",
    "    for i in range(A.shape[0]):\n",
    "        one_value = A.copy()\n",
    "        \"\"\"\n",
    "        The dominating direction should be eliminated from the matrix, \n",
    "        and the most dominant singular value should be found again. \n",
    "        In order to accomplish that, we might use singular values \n",
    "        and previously computed left and right singular vectors \n",
    "        to subtract the prior eigenvector(s) component(s) from the original matrix.\n",
    "        \"\"\"\n",
    "        for u, s, v in svd[:i]:\n",
    "            one_value -= s * np.outer(u, v)\n",
    "        \n",
    "        v = power_method(one_value, epsilon=epsilon)  \n",
    "        u_unnormalized = np.dot(A, v)\n",
    "        sigma = norm(u_unnormalized) \n",
    "        u = u_unnormalized / sigma\n",
    "\n",
    "        svd.append((u, sigma, v))\n",
    "        \n",
    "    us, singularValues, vs = [np.array(x) for x in zip(*svd)]\n",
    "    s = np.diag(singularValues)\n",
    "    return us.T, s, vs"
   ]
  },
  {
   "cell_type": "markdown",
   "metadata": {},
   "source": [
    "Considering the big <i>host image</i>, the part of the reconstruction may take too many times. To get the results faster, this block may be added to the comments."
   ]
  },
  {
   "cell_type": "code",
   "execution_count": null,
   "metadata": {},
   "outputs": [],
   "source": [
    "U, s, VT = SVD(host_image)\n",
    "\n",
    "reconstructed_image = np.dot(U, np.dot(s, VT))\n",
    "\n",
    "plt.figure(figsize=(14,6))\n",
    "plt.subplot(1,2,1)\n",
    "plt.title(\"Host\")\n",
    "plt.imshow(host_image, cmap=\"gray\")\n",
    "plt.subplot(1,2,2)\n",
    "plt.title(\"Reconstructed\")\n",
    "plt.imshow(reconstructed_image, cmap=\"gray\")\n",
    "plt.show()"
   ]
  },
  {
   "cell_type": "markdown",
   "metadata": {},
   "source": [
    "## Embedding Watermark"
   ]
  },
  {
   "cell_type": "code",
   "execution_count": 9,
   "metadata": {},
   "outputs": [],
   "source": [
    "Q = 34"
   ]
  },
  {
   "cell_type": "code",
   "execution_count": 10,
   "metadata": {},
   "outputs": [],
   "source": [
    "def embed_watermark(host_image, watermark):\n",
    "    \"\"\"\n",
    "    Watermark embedding procedure which mentioned in the paper.\n",
    "    \"\"\"\n",
    "    R1 = host_image.shape[0] // watermark.shape[0]\n",
    "    R2 = host_image.shape[1] // watermark.shape[1]\n",
    "\n",
    "    watermarked_image = np.empty_like(host_image)\n",
    "\n",
    "    for i in range(0, watermark.shape[0]):\n",
    "        for j in range(0, watermark.shape[1]):\n",
    "            watermark_bit = watermark[i][j]\n",
    "            # Step 1 , block partition\n",
    "            # Step 2 , SVD \n",
    "            U, s, VT = SVD(host_image[i*R1:(i+1)*R1 , j*R2:(j+1)*R2])\n",
    "            \n",
    "            # Step 3 , quantize largest coefficient\n",
    "            Z = s[0][0] % Q\n",
    "            \n",
    "            # Step 4-5 , algorithm\n",
    "            if watermark_bit <= 0.5:\n",
    "                if Z < 3*Q/4:\n",
    "                    s[0][0] = s[0][0] + Q/4 - Z\n",
    "                else:\n",
    "                    s[0][0] = s[0][0] + 5*Q/4 - Z\n",
    "            else:\n",
    "                if Z < Q/4:\n",
    "                    s[0][0] = s[0][0] - Q/4 + Z\n",
    "                else:\n",
    "                    s[0][0] = s[0][0] + 3*Q/4 - Z\n",
    "            \n",
    "            # Step 6 , reconstruct\n",
    "            watermarked_image[i*R1:(i+1)*R1 , j*R2:(j+1)*R2] = np.dot(U, np.dot(s, VT))\n",
    "    return watermarked_image"
   ]
  },
  {
   "cell_type": "code",
   "execution_count": null,
   "metadata": {},
   "outputs": [],
   "source": [
    "watermarked_image = embed_watermark(host, watermark)\n",
    "\n",
    "plt.figure(figsize=(14,6))\n",
    "plt.subplot(1,2,1)\n",
    "plt.title(\"Host Image\")\n",
    "plt.imshow(host_image, cmap=\"gray\")\n",
    "plt.subplot(1,2,2)\n",
    "plt.title(\"Watermarked Image\")\n",
    "plt.imshow(watermarked_image, cmap=\"gray\")\n",
    "plt.show()"
   ]
  },
  {
   "cell_type": "markdown",
   "metadata": {},
   "source": [
    "## Extracting Watermark"
   ]
  },
  {
   "cell_type": "code",
   "execution_count": 12,
   "metadata": {},
   "outputs": [],
   "source": [
    "ratio = host_image.shape[0] // watermark.shape[0] "
   ]
  },
  {
   "cell_type": "code",
   "execution_count": 13,
   "metadata": {},
   "outputs": [],
   "source": [
    "def extract_watermark(watermarked_image):\n",
    "    \"\"\"\n",
    "    Watermark extracting procedure which mentioned in the paper.\n",
    "    \"\"\"\n",
    "    watermark = list()\n",
    "    for i in range(0, watermarked_image.shape[0] // ratio):\n",
    "        row = list()\n",
    "        for j in range(0, watermarked_image.shape[1] // ratio):\n",
    "            # 1. step , block partition\n",
    "            # 2. step , SVD\n",
    "            U, s, VT = SVD(watermarked_image[i*ratio:(i+1)*ratio , j*ratio:(j+1)*ratio])\n",
    "            \n",
    "            # Step 3 , quantize largest coefficient\n",
    "            Z = s[0][0] % Q\n",
    "            \n",
    "            # Step 4 , algorithm\n",
    "            if(Z < Q/2):\n",
    "                row.append(0)\n",
    "            else:\n",
    "                row.append(1)\n",
    "        watermark.append(row)\n",
    "            \n",
    "    size = len(watermark)\n",
    "    watermark = np.array(watermark).reshape((size, size))\n",
    "    \n",
    "    return watermark"
   ]
  },
  {
   "cell_type": "code",
   "execution_count": null,
   "metadata": {},
   "outputs": [],
   "source": [
    "extracted_watermark = extract_watermark(watermarked_image)\n",
    "\n",
    "plt.figure(figsize=(14,6))\n",
    "plt.subplot(1,2,1)\n",
    "plt.title(\"Original Watermark\")\n",
    "plt.imshow(watermark, cmap=\"gray\")\n",
    "plt.subplot(1,2,2)\n",
    "plt.title(\"Extracted Watermark\")\n",
    "plt.imshow(extracted_watermark, cmap=\"gray\")\n",
    "plt.show()"
   ]
  },
  {
   "cell_type": "markdown",
   "metadata": {},
   "source": [
    "## PSNR Value"
   ]
  },
  {
   "cell_type": "code",
   "execution_count": null,
   "metadata": {},
   "outputs": [],
   "source": [
    "# peak signal-to-noise ratio\n",
    "def psnr(host_image, watermarked_image):\n",
    "    mse = np.mean((host_image - watermarked_image) ** 2)\n",
    "    \n",
    "    max_pixel = 255.0\n",
    "    \n",
    "    psnr_val = 10 * np.log10((max_pixel ** 2) / mse)\n",
    "    return int(psnr_val)\n",
    "\n",
    "psnr_W = psnr(host_image, watermarked_image)\n",
    "print(psnr_W, \"dB\")"
   ]
  },
  {
   "cell_type": "markdown",
   "metadata": {},
   "source": [
    "## Extrancting Watermark from Tampered Image"
   ]
  },
  {
   "cell_type": "code",
   "execution_count": 16,
   "metadata": {},
   "outputs": [],
   "source": [
    "tampered_image = np.copy(watermarked_image)\n",
    "\n",
    "# Scale factor for all size of images\n",
    "scale_factor = im_size / 128\n",
    "\n",
    "# Tampering the watermarked image\n",
    "tampered_image[int(50 * scale_factor):int(78 * scale_factor), int(5 * scale_factor):int(10 * scale_factor)] = 0 \n",
    "tampered_image[int(50 * scale_factor):int(53 * scale_factor), int(10 * scale_factor):int(15 * scale_factor)] = 0 \n",
    "tampered_image[int(53 * scale_factor):int(78 * scale_factor), int(15 * scale_factor):int(20 * scale_factor)] = 0  \n",
    "tampered_image[int(50 * scale_factor):int(78 * scale_factor), int(20 * scale_factor):int(25 * scale_factor)] = 0  \n",
    "tampered_image[int(50 * scale_factor):int(78 * scale_factor), int(25 * scale_factor):int(30 * scale_factor)] = 0 \n",
    "\n",
    "tampered_image[int(50 * scale_factor):int(60 * scale_factor), int(55 * scale_factor):int(75 * scale_factor)] = 123  \n",
    "tampered_image[int(70 * scale_factor):int(80 * scale_factor), int(55 * scale_factor):int(75 * scale_factor)] = 43  \n",
    "tampered_image[int(50 * scale_factor):int(108 * scale_factor), int(55 * scale_factor):int(65 * scale_factor)] = 219 \n",
    "tampered_image[int(50 * scale_factor):int(60 * scale_factor), int(65 * scale_factor):int(75 * scale_factor)] = 14  \n",
    "\n",
    "tampered_image[int(50 * scale_factor):int(78 * scale_factor), int(90 * scale_factor):int(95 * scale_factor)] = 255  \n",
    "tampered_image[int(50 * scale_factor):int(53 * scale_factor), int(95 * scale_factor):int(100 * scale_factor)] = 255 \n",
    "tampered_image[int(53 * scale_factor):int(78 * scale_factor), int(100 * scale_factor):int(105 * scale_factor)] = 255  \n",
    "tampered_image[int(50 * scale_factor):int(53 * scale_factor), int(105 * scale_factor):int(110 * scale_factor)] = 90 \n",
    "tampered_image[int(50 * scale_factor):int(78 * scale_factor), int(110 * scale_factor):int(115 * scale_factor)] = 90  "
   ]
  },
  {
   "cell_type": "code",
   "execution_count": null,
   "metadata": {},
   "outputs": [],
   "source": [
    "plt.figure(figsize=(14,6))\n",
    "plt.subplot(1,2,1)\n",
    "plt.title(\"Watermarked Image\")\n",
    "plt.imshow(watermarked_image, cmap=\"gray\")\n",
    "plt.subplot(1,2,2)\n",
    "plt.title(\"Tampered Image\")\n",
    "plt.imshow(tampered_image, cmap=\"gray\")\n",
    "plt.show()"
   ]
  },
  {
   "cell_type": "code",
   "execution_count": null,
   "metadata": {},
   "outputs": [],
   "source": [
    "extracted_watermark_fromTampered = extract_watermark(tampered_image)\n",
    "\n",
    "plt.figure(figsize=(20,6))\n",
    "plt.subplot(1,3,1)\n",
    "plt.title(\"Original Watermark\")\n",
    "plt.imshow(watermark, cmap=\"gray\")\n",
    "plt.subplot(1,3,2)\n",
    "plt.title(\"Watermarked Image Extracted Watermark\")\n",
    "plt.imshow(extracted_watermark, cmap=\"gray\")\n",
    "plt.subplot(1,3,3)\n",
    "plt.title(\"Tampered Image Extracted Watermark\")\n",
    "plt.imshow(extracted_watermark_fromTampered, cmap=\"gray\")\n",
    "\n",
    "plt.show()"
   ]
  },
  {
   "cell_type": "code",
   "execution_count": null,
   "metadata": {},
   "outputs": [],
   "source": [
    "#  Saving the wanted outputs to output file\n",
    "plt.imshow(host_image, cmap=\"gray\")\n",
    "plt.axis(\"off\")\n",
    "plt.savefig(\"output/output_host_image.png\", cmap=\"gray\", bbox_inches='tight', pad_inches=0)\n",
    "plt.show()\n",
    "plt.imshow(watermarked_image, cmap=\"gray\")\n",
    "plt.axis(\"off\")\n",
    "plt.savefig(\"output/output_watermarked_image.png\", cmap=\"gray\", bbox_inches='tight', pad_inches=0)\n",
    "plt.show()\n",
    "plt.imshow(tampered_image, cmap=\"gray\")\n",
    "plt.axis(\"off\")\n",
    "plt.savefig(\"output/output_tampered_image.png\", cmap=\"gray\", bbox_inches='tight', pad_inches=0)\n",
    "plt.show()\n",
    "plt.imshow(watermark, cmap=\"gray\")\n",
    "plt.axis(\"off\")\n",
    "plt.savefig(\"output/output_watermark.png\", cmap=\"gray\", bbox_inches='tight', pad_inches=0)\n",
    "plt.show()\n",
    "plt.imshow(extracted_watermark, cmap=\"gray\")\n",
    "plt.axis(\"off\")\n",
    "plt.savefig(\"output/output_watermark_extracted.png\", cmap=\"gray\", bbox_inches='tight', pad_inches=0)\n",
    "plt.show()\n",
    "plt.imshow(extracted_watermark_fromTampered, cmap=\"gray\")\n",
    "plt.axis(\"off\")\n",
    "plt.savefig(\"output/output_watermark_extracted_fromTampered.png\", cmap=\"gray\", bbox_inches='tight', pad_inches=0)\n",
    "plt.show()"
   ]
  }
 ],
 "metadata": {
  "kernelspec": {
   "display_name": "Python 3",
   "language": "python",
   "name": "python3"
  },
  "language_info": {
   "codemirror_mode": {
    "name": "ipython",
    "version": 3
   },
   "file_extension": ".py",
   "mimetype": "text/x-python",
   "name": "python",
   "nbconvert_exporter": "python",
   "pygments_lexer": "ipython3",
   "version": "3.10.6"
  }
 },
 "nbformat": 4,
 "nbformat_minor": 2
}
